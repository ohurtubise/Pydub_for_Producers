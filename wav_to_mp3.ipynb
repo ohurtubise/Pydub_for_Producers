{
 "cells": [
  {
   "cell_type": "code",
   "execution_count": 4,
   "metadata": {},
   "outputs": [
    {
     "name": "stdout",
     "output_type": "stream",
     "text": [
      "Conversion Complete\n"
     ]
    }
   ],
   "source": [
    "import os\n",
    "import pydub\n",
    "import glob\n",
    "\n",
    "wav_files = glob.glob('./*.wav')\n",
    "\n",
    "for wav_file in wav_files:\n",
    "    mp3_file = os.path.splitext(wav_file)[0] + '.mp3'\n",
    "    sound = pydub.AudioSegment.from_wav(wav_file)\n",
    "    sound.export(mp3_file, format=\"mp3\")\n",
    "    os.remove(wav_file)\n",
    "print(\"Conversion Complete\")"
   ]
  },
  {
   "cell_type": "code",
   "execution_count": 3,
   "metadata": {},
   "outputs": [
    {
     "name": "stdout",
     "output_type": "stream",
     "text": [
      "Conversion Complete\n"
     ]
    }
   ],
   "source": [
    "import os\n",
    "import pydub\n",
    "import glob\n",
    "\n",
    "wav_files = glob.glob('./*.wav')\n",
    "\n",
    "for wav_file in wav_files:\n",
    "    mp3_file = os.path.splitext(wav_file)[0] + '.mp3'\n",
    "    sound = pydub.AudioSegment.from_wav(wav_file)\n",
    "    sound.export(mp3_file, format=\"mp3\")\n",
    "    os.remove(wav_file)\n",
    "print(\"Conversion Complete\")"
   ]
  },
  {
   "cell_type": "code",
   "execution_count": null,
   "metadata": {},
   "outputs": [],
   "source": []
  }
 ],
 "metadata": {
  "kernelspec": {
   "display_name": "Python 3",
   "language": "python",
   "name": "python3"
  },
  "language_info": {
   "codemirror_mode": {
    "name": "ipython",
    "version": 3
   },
   "file_extension": ".py",
   "mimetype": "text/x-python",
   "name": "python",
   "nbconvert_exporter": "python",
   "pygments_lexer": "ipython3",
   "version": "3.7.3"
  }
 },
 "nbformat": 4,
 "nbformat_minor": 2
}
