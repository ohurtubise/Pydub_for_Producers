{
 "cells": [
  {
   "cell_type": "code",
   "execution_count": 13,
   "metadata": {
    "scrolled": false
   },
   "outputs": [
    {
     "data": {
      "text/plain": [
       "<_io.BufferedRandom name='newnew_ish.mp3'>"
      ]
     },
     "execution_count": 13,
     "metadata": {},
     "output_type": "execute_result"
    }
   ],
   "source": [
    "import os\n",
    "import pydub\n",
    "from pydub import AudioSegment\n",
    "\n",
    "song = AudioSegment.from_mp3('Drum_Loop.mp3')\n",
    "len(song)\n",
    "\n",
    "first_2 = song[:2000]\n",
    "last_2 = song[-2000:]\n",
    "\n",
    "new_song = first_2 + last_2\n",
    "len(new_song)\n",
    "\n",
    "double_song = new_song * 2\n",
    "len(double_song)\n",
    "double_song.export(\"new_ish.mp3\", format=\"mp3\")\n",
    "\n",
    "final_song = double_song.fade_in(250).fade_out(250)\n",
    "final_song.export(\"newnew_ish.mp3\", format=\"mp3\")"
   ]
  },
  {
   "cell_type": "code",
   "execution_count": null,
   "metadata": {},
   "outputs": [],
   "source": []
  }
 ],
 "metadata": {
  "kernelspec": {
   "display_name": "Python 3",
   "language": "python",
   "name": "python3"
  },
  "language_info": {
   "codemirror_mode": {
    "name": "ipython",
    "version": 3
   },
   "file_extension": ".py",
   "mimetype": "text/x-python",
   "name": "python",
   "nbconvert_exporter": "python",
   "pygments_lexer": "ipython3",
   "version": "3.7.3"
  }
 },
 "nbformat": 4,
 "nbformat_minor": 2
}
